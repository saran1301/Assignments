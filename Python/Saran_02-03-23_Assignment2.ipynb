{
 "cells": [
  {
   "cell_type": "markdown",
   "id": "40ebd126",
   "metadata": {},
   "source": [
    "1.Create a python program to find duplicate files by content. User will input path and it will scan all directories, sub-directories to find all duplicates files.\n",
    "Delete the found duplicate file.\n",
    "[Hint: use hashlib]"
   ]
  },
  {
   "cell_type": "code",
   "execution_count": 1,
   "id": "2a4d25d4",
   "metadata": {},
   "outputs": [],
   "source": [
    "def list_to_string(files_name,dir_path):\n",
    "    fileobj = open(str(dir_path)+'/'+str(files_name))\n",
    "    lst = fileobj.readlines()\n",
    "    new_str = ''\n",
    "    for i in lst:\n",
    "        new_str = new_str + i\n",
    "    return new_str"
   ]
  },
  {
   "cell_type": "code",
   "execution_count": 2,
   "id": "b56528a2",
   "metadata": {},
   "outputs": [
    {
     "name": "stdout",
     "output_type": "stream",
     "text": [
      "Enter the path: D:/Training\n",
      "Duplicate Files: ['DOCs.txt']\n"
     ]
    }
   ],
   "source": [
    "import os\n",
    "import hashlib\n",
    "dirpath = input(\"Enter the path: \")\n",
    "\n",
    "files = []\n",
    "hashes = []\n",
    "duplicate = []\n",
    "i=0\n",
    "count = 0\n",
    "for (dir_path,dir_names,files_name) in os.walk(dirpath):\n",
    "    files.extend(files_name)\n",
    "    # Seeing through the contents of each file\n",
    "    for i in range(len(files_name)):\n",
    "        m=list_to_string(files_name[i],dir_path)\n",
    "        new_hash = hashlib.sha256(m.encode())\n",
    "        if str(new_hash.hexdigest()) not in hashes:\n",
    "            hashes.append(str(new_hash.hexdigest()))\n",
    "        else:\n",
    "            duplicate.append(files_name[i])\n",
    "            #os.remove(files_name[i])\n",
    "            count+=1\n",
    "        #print(new_hash.hexdigest())\n",
    "print(\"Duplicate Files:\",duplicate)"
   ]
  },
  {
   "cell_type": "markdown",
   "id": "cb943e0f",
   "metadata": {},
   "source": [
    "2.\tGenerate random Password with exact length = 6, with minimum 1 uppercase, 2 lowercase, 2 digits, and remaining special characters.\n",
    "Using these packages [random, strings]"
   ]
  },
  {
   "cell_type": "code",
   "execution_count": 3,
   "id": "75211412",
   "metadata": {},
   "outputs": [
    {
     "name": "stdout",
     "output_type": "stream",
     "text": [
      "Yk@x13\n"
     ]
    }
   ],
   "source": [
    "import random\n",
    "import string\n",
    "upper = string.ascii_uppercase\n",
    "lower = string.ascii_lowercase\n",
    "digits = string.digits\n",
    "punctuations = string.punctuation\n",
    "pwd = list()\n",
    "final = ''\n",
    "total = 5\n",
    "#print(upperCase,lowerCase,digitsCase)\n",
    "pwd.append(random.choice(upper))\n",
    "for i in range(2):\n",
    "    pwd.append(random.choice(lower))\n",
    "total-=2\n",
    "for i in range(2):\n",
    "    pwd.append(random.choice(digits))\n",
    "total-=2\n",
    "pwd.append(random.choice(punctuations))\n",
    "\n",
    "random.shuffle(pwd)\n",
    "for i in pwd:\n",
    "    final = final+i\n",
    "print(final)"
   ]
  },
  {
   "cell_type": "markdown",
   "id": "be695bc5",
   "metadata": {},
   "source": [
    "3.\tCreate 2D array and update the same 2D array provided that every prime number position should be replaced by cube of the positioned number.\n",
    "[ 0 1 2 3\n",
    "  4 5 6 7\n",
    "  8 9 10 11 ] \n",
    "  Ans :\n",
    " [ 0 1 8 27\n",
    "   4 125 6 ...]"
   ]
  },
  {
   "cell_type": "code",
   "execution_count": 4,
   "id": "dd241643",
   "metadata": {},
   "outputs": [],
   "source": [
    "import numpy as np\n",
    "def create_array(i,j):\n",
    "    array = np.arange(i*j,dtype='int32')\n",
    "    array.resize(i,j)\n",
    "    return array\n",
    "\n",
    "arr=create_array(3,4)"
   ]
  },
  {
   "cell_type": "code",
   "execution_count": 5,
   "id": "612b285a",
   "metadata": {},
   "outputs": [],
   "source": [
    "import math\n",
    "def prime(i):\n",
    "    if i<2:\n",
    "        return True\n",
    "    for a in range(2,i):\n",
    "        if i%a==0:\n",
    "            return False\n",
    "    return True"
   ]
  },
  {
   "cell_type": "code",
   "execution_count": 6,
   "id": "6100c704",
   "metadata": {},
   "outputs": [
    {
     "name": "stdout",
     "output_type": "stream",
     "text": [
      "[[   0    1    8   27]\n",
      " [   4  125    6  343]\n",
      " [   8    9   10 1331]]\n"
     ]
    }
   ],
   "source": [
    "for i in range(len(arr)):\n",
    "    for j in range(len(arr[0])):\n",
    "        if prime(arr[i][j]):\n",
    "            arr[i][j] = arr[i][j]**3\n",
    "print(arr)"
   ]
  },
  {
   "cell_type": "markdown",
   "id": "a632bac9",
   "metadata": {},
   "source": [
    "4. Python program to get the sum of every cubed value and its previous integer. "
   ]
  },
  {
   "cell_type": "code",
   "execution_count": 7,
   "id": "fdc7f3a7",
   "metadata": {},
   "outputs": [
    {
     "name": "stdout",
     "output_type": "stream",
     "text": [
      "[[   0    1    9   35]\n",
      " [   4  129    6  349]\n",
      " [   8    9   10 1341]]\n"
     ]
    }
   ],
   "source": [
    "arr = create_array(3,4)\n",
    "new_arr = arr.copy()\n",
    "\n",
    "for i in range(len(arr)):\n",
    "    for j in range(len(arr[0])):\n",
    "        if prime(arr[i][j]):\n",
    "            new_arr[i][j] = new_arr[i][j]**3\n",
    "\n",
    "final = new_arr.copy()\n",
    "for i in range(len(arr)):\n",
    "    for j in range(len(arr[0])):\n",
    "        if prime(arr[i][j]):\n",
    "            if j>0:\n",
    "                final[i][j] = final[i][j] + new_arr[i][j-1]\n",
    "print(final)"
   ]
  },
  {
   "cell_type": "markdown",
   "id": "2e623ceb",
   "metadata": {},
   "source": [
    "5. Given two arrays, find their intersection. Examples:\n",
    "Input:  arr1[] = [1, 3, 4, 5, 7]\n",
    "        arr2[] = [2, 3, 5, 6]\n"
   ]
  },
  {
   "cell_type": "code",
   "execution_count": 8,
   "id": "7af18577",
   "metadata": {},
   "outputs": [
    {
     "name": "stdout",
     "output_type": "stream",
     "text": [
      "[3, 5]\n"
     ]
    }
   ],
   "source": [
    "arr1 = [1,3,4,5,7]\n",
    "arr2 = [2,3,5,6]\n",
    "set1= set(arr1)\n",
    "set2= set(arr2)\n",
    "print(list(set1.intersection(arr2)))"
   ]
  },
  {
   "cell_type": "markdown",
   "id": "70fb108b",
   "metadata": {},
   "source": [
    "6.Create a 7 x 7  2D array having only multiples of 7. And return the last element of the same."
   ]
  },
  {
   "cell_type": "code",
   "execution_count": 9,
   "id": "ec581209",
   "metadata": {},
   "outputs": [
    {
     "name": "stdout",
     "output_type": "stream",
     "text": [
      "[[  0   7  14  21  28  35  42]\n",
      " [ 49  56  63  70  77  84  91]\n",
      " [ 98 105 112 119 126 133 140]\n",
      " [147 154 161 168 175 182 189]\n",
      " [196 203 210 217 224 231 238]\n",
      " [245 252 259 266 273 280 287]\n",
      " [294 301 308 315 322 329 336]]\n"
     ]
    }
   ],
   "source": [
    "twoD7arr = np.arange(0,7**3,7)\n",
    "twoD7arr.resize(7,7)\n",
    "print(twoD7arr)"
   ]
  },
  {
   "cell_type": "markdown",
   "id": "ad2cbeaa",
   "metadata": {},
   "source": [
    "7.\tChecker Board Patten using Numpy:\n",
    "[   1   0   1   0   1   0   1\n",
    "    0   1   0   1   0   1   0\n",
    "    1   0   1   0   1   0   1\n",
    "    0   1   0   1   0   1   0\n",
    "    1   0   1   0   1   0   1  ]"
   ]
  },
  {
   "cell_type": "code",
   "execution_count": 10,
   "id": "972e4e75",
   "metadata": {},
   "outputs": [
    {
     "name": "stdout",
     "output_type": "stream",
     "text": [
      "[[1 0 1 0 1]\n",
      " [0 1 0 1 0]\n",
      " [1 0 1 0 1]\n",
      " [0 1 0 1 0]\n",
      " [1 0 1 0 1]\n",
      " [0 1 0 1 0]\n",
      " [1 0 1 0 1]]\n"
     ]
    }
   ],
   "source": [
    "checker = np.zeros(7*5,dtype='int8')\n",
    "checker[0::2]=1\n",
    "checker.resize(7,5)\n",
    "print(checker)"
   ]
  },
  {
   "cell_type": "markdown",
   "id": "a4b7d053",
   "metadata": {},
   "source": [
    "8.\tCreate a given Matrix:\n",
    "[  A,     B,     C,       D\n",
    "   E,     F,      G,      H\n",
    "   I,     a,      K,      L\n",
    "   M,     N,      o,      P\n",
    "   Q,     R,      S,      T\n",
    "   U,     0,     W,       O ]\n",
    "\n",
    "Replace all the vowels by np.nan\n",
    "A, E, I, O U  -- >  np.nan\n",
    "Return the count of the missing values"
   ]
  },
  {
   "cell_type": "code",
   "execution_count": 13,
   "id": "91e6f27a",
   "metadata": {},
   "outputs": [
    {
     "name": "stdout",
     "output_type": "stream",
     "text": [
      "[['nan' 'B' 'C' 'D']\n",
      " ['nan' 'F' 'G' 'H']\n",
      " ['nan' 'nan' 'K' 'L']\n",
      " ['M' 'N' 'nan' 'P']\n",
      " ['Q' 'R' 'S' 'T']\n",
      " ['nan' '0' 'W' 'nan']]\n"
     ]
    }
   ],
   "source": [
    "lst = [['A','B','C','D'],['E','F','G','H'],['I','a','K','L'],['M','N','o','P'],['Q','R','S','T'],['U','0','W','O']]\n",
    "vowels = ['A','a','E','e','I','i','O','o','U','u']\n",
    "alphaArr = np.array(lst)\n",
    "alphaArr= alphaArr.flatten()\n",
    "for i in range(len(vowels)):\n",
    "    alphaArr = np.where(alphaArr==vowels[i], np.nan, alphaArr)\n",
    "alphaArr.resize(6,4)\n",
    "print(alphaArr)"
   ]
  }
 ],
 "metadata": {
  "kernelspec": {
   "display_name": "Python 3 (ipykernel)",
   "language": "python",
   "name": "python3"
  },
  "language_info": {
   "codemirror_mode": {
    "name": "ipython",
    "version": 3
   },
   "file_extension": ".py",
   "mimetype": "text/x-python",
   "name": "python",
   "nbconvert_exporter": "python",
   "pygments_lexer": "ipython3",
   "version": "3.9.13"
  }
 },
 "nbformat": 4,
 "nbformat_minor": 5
}
